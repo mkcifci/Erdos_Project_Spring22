{
  "cells": [
    {
      "cell_type": "markdown",
      "source": [
        "# Consumer complaint project\n",
        "\n",
        "Our objective is to use consumer complaint dataset released by Consumer Financial Protection Bureau (CFPB) to classify complaints to different issues We specifically focus on mortgage complaints in this project. Roughly 35 percent of customers provided consent to release their complaint narrative. These complaints can provide other customers and companies meaningful information such as: issues occuring in certain company, how a company treats their customers and what and when an issue is likely to occur. "
      ],
      "metadata": {
        "id": "7ekXL13pU7Am"
      },
      "id": "7ekXL13pU7Am"
    },
    {
      "cell_type": "markdown",
      "source": [
        "### 1) Load in, manipulate and export final dataset"
      ],
      "metadata": {
        "id": "UyZXKYNRSEfb"
      },
      "id": "UyZXKYNRSEfb"
    },
    {
      "cell_type": "markdown",
      "source": [
        "#### 1.1) Prepare environment"
      ],
      "metadata": {
        "id": "GPZst2Q8deTh"
      },
      "id": "GPZst2Q8deTh"
    },
    {
      "cell_type": "code",
      "execution_count": null,
      "id": "7870aba3",
      "metadata": {
        "id": "7870aba3"
      },
      "outputs": [],
      "source": [
        "import numpy as np\n",
        "import pandas as pd\n",
        "import matplotlib.pyplot as plt\n",
        "import seaborn as sns"
      ]
    },
    {
      "cell_type": "code",
      "source": [
        "#Connect Google Drive\n",
        "from google.colab import drive\n",
        "drive.mount('/content/drive')\n",
        "\n",
        "import os\n",
        "os.chdir('/content/drive/MyDrive')"
      ],
      "metadata": {
        "colab": {
          "base_uri": "https://localhost:8080/"
        },
        "id": "V8RmViQMp_x9",
        "outputId": "21ecfdc5-1bdf-4c1d-eb4d-0f4f5a799f6d"
      },
      "id": "V8RmViQMp_x9",
      "execution_count": null,
      "outputs": [
        {
          "output_type": "stream",
          "name": "stdout",
          "text": [
            "Mounted at /content/drive\n"
          ]
        }
      ]
    },
    {
      "cell_type": "code",
      "execution_count": null,
      "id": "04e3dce1",
      "metadata": {
        "colab": {
          "base_uri": "https://localhost:8080/"
        },
        "id": "04e3dce1",
        "outputId": "19ddb359-b576-4b72-c0ef-94d99af8d3e4"
      },
      "outputs": [
        {
          "output_type": "stream",
          "name": "stderr",
          "text": [
            "/usr/local/lib/python3.7/dist-packages/IPython/core/interactiveshell.py:2882: DtypeWarning: Columns (9) have mixed types.Specify dtype option on import or set low_memory=False.\n",
            "  exec(code_obj, self.user_global_ns, self.user_ns)\n"
          ]
        }
      ],
      "source": [
        "data = pd.read_csv(\"complaints.csv\") # read in data"
      ]
    },
    {
      "cell_type": "markdown",
      "source": [
        "#### 1.2) Preview and manipulate the data"
      ],
      "metadata": {
        "id": "uwBaBMF_dkB-"
      },
      "id": "uwBaBMF_dkB-"
    },
    {
      "cell_type": "code",
      "source": [
        "list(data.columns) # get column names"
      ],
      "metadata": {
        "colab": {
          "base_uri": "https://localhost:8080/"
        },
        "id": "SGUdVJKYUpM6",
        "outputId": "228703ef-f1cf-4b50-add3-787233b3ab9d"
      },
      "id": "SGUdVJKYUpM6",
      "execution_count": null,
      "outputs": [
        {
          "output_type": "execute_result",
          "data": {
            "text/plain": [
              "['Date received',\n",
              " 'Product',\n",
              " 'Sub-product',\n",
              " 'Issue',\n",
              " 'Sub-issue',\n",
              " 'Consumer complaint narrative',\n",
              " 'Company public response',\n",
              " 'Company',\n",
              " 'State',\n",
              " 'ZIP code',\n",
              " 'Tags',\n",
              " 'Consumer consent provided?',\n",
              " 'Submitted via',\n",
              " 'Date sent to company',\n",
              " 'Company response to consumer',\n",
              " 'Timely response?',\n",
              " 'Consumer disputed?',\n",
              " 'Complaint ID']"
            ]
          },
          "metadata": {},
          "execution_count": 35
        }
      ]
    },
    {
      "cell_type": "code",
      "execution_count": null,
      "id": "50fdb368",
      "metadata": {
        "scrolled": true,
        "colab": {
          "base_uri": "https://localhost:8080/",
          "height": 615
        },
        "id": "50fdb368",
        "outputId": "b5c189bb-fe9f-4cbb-8165-7f249e82c0c1"
      },
      "outputs": [
        {
          "output_type": "execute_result",
          "data": {
            "text/plain": [
              "  Date received                                            Product  \\\n",
              "0    2022-05-10                        Checking or savings account   \n",
              "1    2022-05-05                        Credit card or prepaid card   \n",
              "2    2022-05-05  Credit reporting, credit repair services, or o...   \n",
              "3    2022-04-19                        Credit card or prepaid card   \n",
              "4    2022-05-05                                    Debt collection   \n",
              "\n",
              "                                  Sub-product  \\\n",
              "0                            Checking account   \n",
              "1  General-purpose credit card or charge card   \n",
              "2                            Credit reporting   \n",
              "3  General-purpose credit card or charge card   \n",
              "4                                   Auto debt   \n",
              "\n",
              "                                               Issue  \\\n",
              "0                                Managing an account   \n",
              "1                               Closing your account   \n",
              "2  Problem with a credit reporting company's inve...   \n",
              "3  Advertising and marketing, including promotion...   \n",
              "4  Took or threatened to take negative or legal a...   \n",
              "\n",
              "                                           Sub-issue  \\\n",
              "0                           Deposits and withdrawals   \n",
              "1                        Company closed your account   \n",
              "2  Their investigation did not fix an error on yo...   \n",
              "3     Didn't receive advertised or promotional terms   \n",
              "4  Threatened or suggested your credit would be d...   \n",
              "\n",
              "  Consumer complaint narrative  \\\n",
              "0                          NaN   \n",
              "1                          NaN   \n",
              "2                          NaN   \n",
              "3                          NaN   \n",
              "4                          NaN   \n",
              "\n",
              "                             Company public response  \\\n",
              "0                                                NaN   \n",
              "1                                                NaN   \n",
              "2  Company has responded to the consumer and the ...   \n",
              "3                                                NaN   \n",
              "4                                                NaN   \n",
              "\n",
              "                                 Company State ZIP code Tags  \\\n",
              "0      CAPITAL ONE FINANCIAL CORPORATION    NY  11746.0  NaN   \n",
              "1  BANK OF AMERICA, NATIONAL ASSOCIATION    WV  25504.0  NaN   \n",
              "2    Experian Information Solutions Inc.    FL  32792.0  NaN   \n",
              "3         Bread Financial Holdings, Inc.    FL  34787.0  NaN   \n",
              "4           NCB Management Services Inc.    TX  78503.0  NaN   \n",
              "\n",
              "  Consumer consent provided? Submitted via Date sent to company  \\\n",
              "0                        NaN      Referral           2022-05-11   \n",
              "1                        NaN           Web           2022-05-05   \n",
              "2       Consent not provided           Web           2022-05-05   \n",
              "3                        NaN           Web           2022-05-05   \n",
              "4                        NaN           Web           2022-05-05   \n",
              "\n",
              "  Company response to consumer Timely response? Consumer disputed?  \\\n",
              "0      Closed with explanation              Yes                NaN   \n",
              "1                  In progress              Yes                NaN   \n",
              "2      Closed with explanation              Yes                NaN   \n",
              "3  Closed with monetary relief              Yes                NaN   \n",
              "4      Closed with explanation              Yes                NaN   \n",
              "\n",
              "   Complaint ID  \n",
              "0       5552549  \n",
              "1       5546454  \n",
              "2       5543106  \n",
              "3       5464187  \n",
              "4       5544809  "
            ],
            "text/html": [
              "\n",
              "  <div id=\"df-f76109f6-53b0-4bc3-b2d3-f81cb4f7f123\">\n",
              "    <div class=\"colab-df-container\">\n",
              "      <div>\n",
              "<style scoped>\n",
              "    .dataframe tbody tr th:only-of-type {\n",
              "        vertical-align: middle;\n",
              "    }\n",
              "\n",
              "    .dataframe tbody tr th {\n",
              "        vertical-align: top;\n",
              "    }\n",
              "\n",
              "    .dataframe thead th {\n",
              "        text-align: right;\n",
              "    }\n",
              "</style>\n",
              "<table border=\"1\" class=\"dataframe\">\n",
              "  <thead>\n",
              "    <tr style=\"text-align: right;\">\n",
              "      <th></th>\n",
              "      <th>Date received</th>\n",
              "      <th>Product</th>\n",
              "      <th>Sub-product</th>\n",
              "      <th>Issue</th>\n",
              "      <th>Sub-issue</th>\n",
              "      <th>Consumer complaint narrative</th>\n",
              "      <th>Company public response</th>\n",
              "      <th>Company</th>\n",
              "      <th>State</th>\n",
              "      <th>ZIP code</th>\n",
              "      <th>Tags</th>\n",
              "      <th>Consumer consent provided?</th>\n",
              "      <th>Submitted via</th>\n",
              "      <th>Date sent to company</th>\n",
              "      <th>Company response to consumer</th>\n",
              "      <th>Timely response?</th>\n",
              "      <th>Consumer disputed?</th>\n",
              "      <th>Complaint ID</th>\n",
              "    </tr>\n",
              "  </thead>\n",
              "  <tbody>\n",
              "    <tr>\n",
              "      <th>0</th>\n",
              "      <td>2022-05-10</td>\n",
              "      <td>Checking or savings account</td>\n",
              "      <td>Checking account</td>\n",
              "      <td>Managing an account</td>\n",
              "      <td>Deposits and withdrawals</td>\n",
              "      <td>NaN</td>\n",
              "      <td>NaN</td>\n",
              "      <td>CAPITAL ONE FINANCIAL CORPORATION</td>\n",
              "      <td>NY</td>\n",
              "      <td>11746.0</td>\n",
              "      <td>NaN</td>\n",
              "      <td>NaN</td>\n",
              "      <td>Referral</td>\n",
              "      <td>2022-05-11</td>\n",
              "      <td>Closed with explanation</td>\n",
              "      <td>Yes</td>\n",
              "      <td>NaN</td>\n",
              "      <td>5552549</td>\n",
              "    </tr>\n",
              "    <tr>\n",
              "      <th>1</th>\n",
              "      <td>2022-05-05</td>\n",
              "      <td>Credit card or prepaid card</td>\n",
              "      <td>General-purpose credit card or charge card</td>\n",
              "      <td>Closing your account</td>\n",
              "      <td>Company closed your account</td>\n",
              "      <td>NaN</td>\n",
              "      <td>NaN</td>\n",
              "      <td>BANK OF AMERICA, NATIONAL ASSOCIATION</td>\n",
              "      <td>WV</td>\n",
              "      <td>25504.0</td>\n",
              "      <td>NaN</td>\n",
              "      <td>NaN</td>\n",
              "      <td>Web</td>\n",
              "      <td>2022-05-05</td>\n",
              "      <td>In progress</td>\n",
              "      <td>Yes</td>\n",
              "      <td>NaN</td>\n",
              "      <td>5546454</td>\n",
              "    </tr>\n",
              "    <tr>\n",
              "      <th>2</th>\n",
              "      <td>2022-05-05</td>\n",
              "      <td>Credit reporting, credit repair services, or o...</td>\n",
              "      <td>Credit reporting</td>\n",
              "      <td>Problem with a credit reporting company's inve...</td>\n",
              "      <td>Their investigation did not fix an error on yo...</td>\n",
              "      <td>NaN</td>\n",
              "      <td>Company has responded to the consumer and the ...</td>\n",
              "      <td>Experian Information Solutions Inc.</td>\n",
              "      <td>FL</td>\n",
              "      <td>32792.0</td>\n",
              "      <td>NaN</td>\n",
              "      <td>Consent not provided</td>\n",
              "      <td>Web</td>\n",
              "      <td>2022-05-05</td>\n",
              "      <td>Closed with explanation</td>\n",
              "      <td>Yes</td>\n",
              "      <td>NaN</td>\n",
              "      <td>5543106</td>\n",
              "    </tr>\n",
              "    <tr>\n",
              "      <th>3</th>\n",
              "      <td>2022-04-19</td>\n",
              "      <td>Credit card or prepaid card</td>\n",
              "      <td>General-purpose credit card or charge card</td>\n",
              "      <td>Advertising and marketing, including promotion...</td>\n",
              "      <td>Didn't receive advertised or promotional terms</td>\n",
              "      <td>NaN</td>\n",
              "      <td>NaN</td>\n",
              "      <td>Bread Financial Holdings, Inc.</td>\n",
              "      <td>FL</td>\n",
              "      <td>34787.0</td>\n",
              "      <td>NaN</td>\n",
              "      <td>NaN</td>\n",
              "      <td>Web</td>\n",
              "      <td>2022-05-05</td>\n",
              "      <td>Closed with monetary relief</td>\n",
              "      <td>Yes</td>\n",
              "      <td>NaN</td>\n",
              "      <td>5464187</td>\n",
              "    </tr>\n",
              "    <tr>\n",
              "      <th>4</th>\n",
              "      <td>2022-05-05</td>\n",
              "      <td>Debt collection</td>\n",
              "      <td>Auto debt</td>\n",
              "      <td>Took or threatened to take negative or legal a...</td>\n",
              "      <td>Threatened or suggested your credit would be d...</td>\n",
              "      <td>NaN</td>\n",
              "      <td>NaN</td>\n",
              "      <td>NCB Management Services Inc.</td>\n",
              "      <td>TX</td>\n",
              "      <td>78503.0</td>\n",
              "      <td>NaN</td>\n",
              "      <td>NaN</td>\n",
              "      <td>Web</td>\n",
              "      <td>2022-05-05</td>\n",
              "      <td>Closed with explanation</td>\n",
              "      <td>Yes</td>\n",
              "      <td>NaN</td>\n",
              "      <td>5544809</td>\n",
              "    </tr>\n",
              "  </tbody>\n",
              "</table>\n",
              "</div>\n",
              "      <button class=\"colab-df-convert\" onclick=\"convertToInteractive('df-f76109f6-53b0-4bc3-b2d3-f81cb4f7f123')\"\n",
              "              title=\"Convert this dataframe to an interactive table.\"\n",
              "              style=\"display:none;\">\n",
              "        \n",
              "  <svg xmlns=\"http://www.w3.org/2000/svg\" height=\"24px\"viewBox=\"0 0 24 24\"\n",
              "       width=\"24px\">\n",
              "    <path d=\"M0 0h24v24H0V0z\" fill=\"none\"/>\n",
              "    <path d=\"M18.56 5.44l.94 2.06.94-2.06 2.06-.94-2.06-.94-.94-2.06-.94 2.06-2.06.94zm-11 1L8.5 8.5l.94-2.06 2.06-.94-2.06-.94L8.5 2.5l-.94 2.06-2.06.94zm10 10l.94 2.06.94-2.06 2.06-.94-2.06-.94-.94-2.06-.94 2.06-2.06.94z\"/><path d=\"M17.41 7.96l-1.37-1.37c-.4-.4-.92-.59-1.43-.59-.52 0-1.04.2-1.43.59L10.3 9.45l-7.72 7.72c-.78.78-.78 2.05 0 2.83L4 21.41c.39.39.9.59 1.41.59.51 0 1.02-.2 1.41-.59l7.78-7.78 2.81-2.81c.8-.78.8-2.07 0-2.86zM5.41 20L4 18.59l7.72-7.72 1.47 1.35L5.41 20z\"/>\n",
              "  </svg>\n",
              "      </button>\n",
              "      \n",
              "  <style>\n",
              "    .colab-df-container {\n",
              "      display:flex;\n",
              "      flex-wrap:wrap;\n",
              "      gap: 12px;\n",
              "    }\n",
              "\n",
              "    .colab-df-convert {\n",
              "      background-color: #E8F0FE;\n",
              "      border: none;\n",
              "      border-radius: 50%;\n",
              "      cursor: pointer;\n",
              "      display: none;\n",
              "      fill: #1967D2;\n",
              "      height: 32px;\n",
              "      padding: 0 0 0 0;\n",
              "      width: 32px;\n",
              "    }\n",
              "\n",
              "    .colab-df-convert:hover {\n",
              "      background-color: #E2EBFA;\n",
              "      box-shadow: 0px 1px 2px rgba(60, 64, 67, 0.3), 0px 1px 3px 1px rgba(60, 64, 67, 0.15);\n",
              "      fill: #174EA6;\n",
              "    }\n",
              "\n",
              "    [theme=dark] .colab-df-convert {\n",
              "      background-color: #3B4455;\n",
              "      fill: #D2E3FC;\n",
              "    }\n",
              "\n",
              "    [theme=dark] .colab-df-convert:hover {\n",
              "      background-color: #434B5C;\n",
              "      box-shadow: 0px 1px 3px 1px rgba(0, 0, 0, 0.15);\n",
              "      filter: drop-shadow(0px 1px 2px rgba(0, 0, 0, 0.3));\n",
              "      fill: #FFFFFF;\n",
              "    }\n",
              "  </style>\n",
              "\n",
              "      <script>\n",
              "        const buttonEl =\n",
              "          document.querySelector('#df-f76109f6-53b0-4bc3-b2d3-f81cb4f7f123 button.colab-df-convert');\n",
              "        buttonEl.style.display =\n",
              "          google.colab.kernel.accessAllowed ? 'block' : 'none';\n",
              "\n",
              "        async function convertToInteractive(key) {\n",
              "          const element = document.querySelector('#df-f76109f6-53b0-4bc3-b2d3-f81cb4f7f123');\n",
              "          const dataTable =\n",
              "            await google.colab.kernel.invokeFunction('convertToInteractive',\n",
              "                                                     [key], {});\n",
              "          if (!dataTable) return;\n",
              "\n",
              "          const docLinkHtml = 'Like what you see? Visit the ' +\n",
              "            '<a target=\"_blank\" href=https://colab.research.google.com/notebooks/data_table.ipynb>data table notebook</a>'\n",
              "            + ' to learn more about interactive tables.';\n",
              "          element.innerHTML = '';\n",
              "          dataTable['output_type'] = 'display_data';\n",
              "          await google.colab.output.renderOutput(dataTable, element);\n",
              "          const docLink = document.createElement('div');\n",
              "          docLink.innerHTML = docLinkHtml;\n",
              "          element.appendChild(docLink);\n",
              "        }\n",
              "      </script>\n",
              "    </div>\n",
              "  </div>\n",
              "  "
            ]
          },
          "metadata": {},
          "execution_count": 13
        }
      ],
      "source": [
        "data.head(5) # get an overview of df "
      ]
    },
    {
      "cell_type": "code",
      "source": [
        "data.shape # get dimension of df"
      ],
      "metadata": {
        "colab": {
          "base_uri": "https://localhost:8080/"
        },
        "id": "GC9Bey2crYu9",
        "outputId": "e2cb518a-a8b0-4278-cfef-1d6c058cf2b5"
      },
      "id": "GC9Bey2crYu9",
      "execution_count": null,
      "outputs": [
        {
          "output_type": "execute_result",
          "data": {
            "text/plain": [
              "(2682094, 18)"
            ]
          },
          "metadata": {},
          "execution_count": 5
        }
      ]
    },
    {
      "cell_type": "code",
      "source": [
        "# find number of missing values and percentage\n",
        "def missing_value(df=data):\n",
        "    total = df.isnull().sum()\n",
        "    pct = df.isnull().sum() * 100 / df.shape[0]\n",
        "    missing = pd.concat([total, round(pct, 1)], axis=1, keys=['Total', 'Percentage'])\n",
        "    return missing.sort_values(by='Percentage', ascending=False)\n",
        "\n",
        "missing_value()"
      ],
      "metadata": {
        "colab": {
          "base_uri": "https://localhost:8080/",
          "height": 614
        },
        "id": "AJoHoVLjybMS",
        "outputId": "2c12eafe-e813-4785-b63f-ea4dd0700c28"
      },
      "id": "AJoHoVLjybMS",
      "execution_count": null,
      "outputs": [
        {
          "output_type": "execute_result",
          "data": {
            "text/plain": [
              "                                Total  Percentage\n",
              "Tags                          2368098        88.3\n",
              "Consumer disputed?            1913636        71.3\n",
              "Consumer complaint narrative  1744298        65.0\n",
              "Company public response       1563346        58.3\n",
              "Consumer consent provided?     782815        29.2\n",
              "Sub-issue                      660460        24.6\n",
              "Sub-product                    235163         8.8\n",
              "ZIP code                        40003         1.5\n",
              "State                           39743         1.5\n",
              "Date sent to company                0         0.0\n",
              "Timely response?                    0         0.0\n",
              "Company response to consumer        3         0.0\n",
              "Date received                       0         0.0\n",
              "Submitted via                       0         0.0\n",
              "Product                             0         0.0\n",
              "Company                             0         0.0\n",
              "Issue                               0         0.0\n",
              "Complaint ID                        0         0.0"
            ],
            "text/html": [
              "\n",
              "  <div id=\"df-3a1adcf0-fa01-443d-8d93-aa5808cf4922\">\n",
              "    <div class=\"colab-df-container\">\n",
              "      <div>\n",
              "<style scoped>\n",
              "    .dataframe tbody tr th:only-of-type {\n",
              "        vertical-align: middle;\n",
              "    }\n",
              "\n",
              "    .dataframe tbody tr th {\n",
              "        vertical-align: top;\n",
              "    }\n",
              "\n",
              "    .dataframe thead th {\n",
              "        text-align: right;\n",
              "    }\n",
              "</style>\n",
              "<table border=\"1\" class=\"dataframe\">\n",
              "  <thead>\n",
              "    <tr style=\"text-align: right;\">\n",
              "      <th></th>\n",
              "      <th>Total</th>\n",
              "      <th>Percentage</th>\n",
              "    </tr>\n",
              "  </thead>\n",
              "  <tbody>\n",
              "    <tr>\n",
              "      <th>Tags</th>\n",
              "      <td>2368098</td>\n",
              "      <td>88.3</td>\n",
              "    </tr>\n",
              "    <tr>\n",
              "      <th>Consumer disputed?</th>\n",
              "      <td>1913636</td>\n",
              "      <td>71.3</td>\n",
              "    </tr>\n",
              "    <tr>\n",
              "      <th>Consumer complaint narrative</th>\n",
              "      <td>1744298</td>\n",
              "      <td>65.0</td>\n",
              "    </tr>\n",
              "    <tr>\n",
              "      <th>Company public response</th>\n",
              "      <td>1563346</td>\n",
              "      <td>58.3</td>\n",
              "    </tr>\n",
              "    <tr>\n",
              "      <th>Consumer consent provided?</th>\n",
              "      <td>782815</td>\n",
              "      <td>29.2</td>\n",
              "    </tr>\n",
              "    <tr>\n",
              "      <th>Sub-issue</th>\n",
              "      <td>660460</td>\n",
              "      <td>24.6</td>\n",
              "    </tr>\n",
              "    <tr>\n",
              "      <th>Sub-product</th>\n",
              "      <td>235163</td>\n",
              "      <td>8.8</td>\n",
              "    </tr>\n",
              "    <tr>\n",
              "      <th>ZIP code</th>\n",
              "      <td>40003</td>\n",
              "      <td>1.5</td>\n",
              "    </tr>\n",
              "    <tr>\n",
              "      <th>State</th>\n",
              "      <td>39743</td>\n",
              "      <td>1.5</td>\n",
              "    </tr>\n",
              "    <tr>\n",
              "      <th>Date sent to company</th>\n",
              "      <td>0</td>\n",
              "      <td>0.0</td>\n",
              "    </tr>\n",
              "    <tr>\n",
              "      <th>Timely response?</th>\n",
              "      <td>0</td>\n",
              "      <td>0.0</td>\n",
              "    </tr>\n",
              "    <tr>\n",
              "      <th>Company response to consumer</th>\n",
              "      <td>3</td>\n",
              "      <td>0.0</td>\n",
              "    </tr>\n",
              "    <tr>\n",
              "      <th>Date received</th>\n",
              "      <td>0</td>\n",
              "      <td>0.0</td>\n",
              "    </tr>\n",
              "    <tr>\n",
              "      <th>Submitted via</th>\n",
              "      <td>0</td>\n",
              "      <td>0.0</td>\n",
              "    </tr>\n",
              "    <tr>\n",
              "      <th>Product</th>\n",
              "      <td>0</td>\n",
              "      <td>0.0</td>\n",
              "    </tr>\n",
              "    <tr>\n",
              "      <th>Company</th>\n",
              "      <td>0</td>\n",
              "      <td>0.0</td>\n",
              "    </tr>\n",
              "    <tr>\n",
              "      <th>Issue</th>\n",
              "      <td>0</td>\n",
              "      <td>0.0</td>\n",
              "    </tr>\n",
              "    <tr>\n",
              "      <th>Complaint ID</th>\n",
              "      <td>0</td>\n",
              "      <td>0.0</td>\n",
              "    </tr>\n",
              "  </tbody>\n",
              "</table>\n",
              "</div>\n",
              "      <button class=\"colab-df-convert\" onclick=\"convertToInteractive('df-3a1adcf0-fa01-443d-8d93-aa5808cf4922')\"\n",
              "              title=\"Convert this dataframe to an interactive table.\"\n",
              "              style=\"display:none;\">\n",
              "        \n",
              "  <svg xmlns=\"http://www.w3.org/2000/svg\" height=\"24px\"viewBox=\"0 0 24 24\"\n",
              "       width=\"24px\">\n",
              "    <path d=\"M0 0h24v24H0V0z\" fill=\"none\"/>\n",
              "    <path d=\"M18.56 5.44l.94 2.06.94-2.06 2.06-.94-2.06-.94-.94-2.06-.94 2.06-2.06.94zm-11 1L8.5 8.5l.94-2.06 2.06-.94-2.06-.94L8.5 2.5l-.94 2.06-2.06.94zm10 10l.94 2.06.94-2.06 2.06-.94-2.06-.94-.94-2.06-.94 2.06-2.06.94z\"/><path d=\"M17.41 7.96l-1.37-1.37c-.4-.4-.92-.59-1.43-.59-.52 0-1.04.2-1.43.59L10.3 9.45l-7.72 7.72c-.78.78-.78 2.05 0 2.83L4 21.41c.39.39.9.59 1.41.59.51 0 1.02-.2 1.41-.59l7.78-7.78 2.81-2.81c.8-.78.8-2.07 0-2.86zM5.41 20L4 18.59l7.72-7.72 1.47 1.35L5.41 20z\"/>\n",
              "  </svg>\n",
              "      </button>\n",
              "      \n",
              "  <style>\n",
              "    .colab-df-container {\n",
              "      display:flex;\n",
              "      flex-wrap:wrap;\n",
              "      gap: 12px;\n",
              "    }\n",
              "\n",
              "    .colab-df-convert {\n",
              "      background-color: #E8F0FE;\n",
              "      border: none;\n",
              "      border-radius: 50%;\n",
              "      cursor: pointer;\n",
              "      display: none;\n",
              "      fill: #1967D2;\n",
              "      height: 32px;\n",
              "      padding: 0 0 0 0;\n",
              "      width: 32px;\n",
              "    }\n",
              "\n",
              "    .colab-df-convert:hover {\n",
              "      background-color: #E2EBFA;\n",
              "      box-shadow: 0px 1px 2px rgba(60, 64, 67, 0.3), 0px 1px 3px 1px rgba(60, 64, 67, 0.15);\n",
              "      fill: #174EA6;\n",
              "    }\n",
              "\n",
              "    [theme=dark] .colab-df-convert {\n",
              "      background-color: #3B4455;\n",
              "      fill: #D2E3FC;\n",
              "    }\n",
              "\n",
              "    [theme=dark] .colab-df-convert:hover {\n",
              "      background-color: #434B5C;\n",
              "      box-shadow: 0px 1px 3px 1px rgba(0, 0, 0, 0.15);\n",
              "      filter: drop-shadow(0px 1px 2px rgba(0, 0, 0, 0.3));\n",
              "      fill: #FFFFFF;\n",
              "    }\n",
              "  </style>\n",
              "\n",
              "      <script>\n",
              "        const buttonEl =\n",
              "          document.querySelector('#df-3a1adcf0-fa01-443d-8d93-aa5808cf4922 button.colab-df-convert');\n",
              "        buttonEl.style.display =\n",
              "          google.colab.kernel.accessAllowed ? 'block' : 'none';\n",
              "\n",
              "        async function convertToInteractive(key) {\n",
              "          const element = document.querySelector('#df-3a1adcf0-fa01-443d-8d93-aa5808cf4922');\n",
              "          const dataTable =\n",
              "            await google.colab.kernel.invokeFunction('convertToInteractive',\n",
              "                                                     [key], {});\n",
              "          if (!dataTable) return;\n",
              "\n",
              "          const docLinkHtml = 'Like what you see? Visit the ' +\n",
              "            '<a target=\"_blank\" href=https://colab.research.google.com/notebooks/data_table.ipynb>data table notebook</a>'\n",
              "            + ' to learn more about interactive tables.';\n",
              "          element.innerHTML = '';\n",
              "          dataTable['output_type'] = 'display_data';\n",
              "          await google.colab.output.renderOutput(dataTable, element);\n",
              "          const docLink = document.createElement('div');\n",
              "          docLink.innerHTML = docLinkHtml;\n",
              "          element.appendChild(docLink);\n",
              "        }\n",
              "      </script>\n",
              "    </div>\n",
              "  </div>\n",
              "  "
            ]
          },
          "metadata": {},
          "execution_count": 6
        }
      ]
    },
    {
      "cell_type": "code",
      "source": [
        "# get number of unique values in each column \n",
        "def total_unique_values(df=data):\n",
        "    cols = pd.Series(df.columns.values)\n",
        "    len_unique = pd.Series([len(df[i].unique()) for i in df.columns.values])\n",
        "    unique = pd.concat([cols, len_unique], axis=1, keys=['Column', 'Total Unique Values'])\n",
        "    return unique.sort_values(by='Total Unique Values', ascending=False)\n",
        "\n",
        "total_unique_values()"
      ],
      "metadata": {
        "colab": {
          "base_uri": "https://localhost:8080/",
          "height": 614
        },
        "id": "Yet3y9WA0S7c",
        "outputId": "5a7c5cf1-53e4-4a9a-849b-1fa3049112e1"
      },
      "id": "Yet3y9WA0S7c",
      "execution_count": null,
      "outputs": [
        {
          "output_type": "execute_result",
          "data": {
            "text/plain": [
              "                          Column  Total Unique Values\n",
              "17                  Complaint ID              2682094\n",
              "5   Consumer complaint narrative               831261\n",
              "9                       ZIP code                58907\n",
              "7                        Company                 6379\n",
              "0                  Date received                 3822\n",
              "13          Date sent to company                 3771\n",
              "4                      Sub-issue                  222\n",
              "3                          Issue                  165\n",
              "2                    Sub-product                   77\n",
              "8                          State                   64\n",
              "1                        Product                   18\n",
              "6        Company public response                   12\n",
              "14  Company response to consumer                    9\n",
              "12                 Submitted via                    7\n",
              "11    Consumer consent provided?                    5\n",
              "10                          Tags                    4\n",
              "16            Consumer disputed?                    3\n",
              "15              Timely response?                    2"
            ],
            "text/html": [
              "\n",
              "  <div id=\"df-b9a164fc-6798-4ce9-a0e1-7227cf3294fa\">\n",
              "    <div class=\"colab-df-container\">\n",
              "      <div>\n",
              "<style scoped>\n",
              "    .dataframe tbody tr th:only-of-type {\n",
              "        vertical-align: middle;\n",
              "    }\n",
              "\n",
              "    .dataframe tbody tr th {\n",
              "        vertical-align: top;\n",
              "    }\n",
              "\n",
              "    .dataframe thead th {\n",
              "        text-align: right;\n",
              "    }\n",
              "</style>\n",
              "<table border=\"1\" class=\"dataframe\">\n",
              "  <thead>\n",
              "    <tr style=\"text-align: right;\">\n",
              "      <th></th>\n",
              "      <th>Column</th>\n",
              "      <th>Total Unique Values</th>\n",
              "    </tr>\n",
              "  </thead>\n",
              "  <tbody>\n",
              "    <tr>\n",
              "      <th>17</th>\n",
              "      <td>Complaint ID</td>\n",
              "      <td>2682094</td>\n",
              "    </tr>\n",
              "    <tr>\n",
              "      <th>5</th>\n",
              "      <td>Consumer complaint narrative</td>\n",
              "      <td>831261</td>\n",
              "    </tr>\n",
              "    <tr>\n",
              "      <th>9</th>\n",
              "      <td>ZIP code</td>\n",
              "      <td>58907</td>\n",
              "    </tr>\n",
              "    <tr>\n",
              "      <th>7</th>\n",
              "      <td>Company</td>\n",
              "      <td>6379</td>\n",
              "    </tr>\n",
              "    <tr>\n",
              "      <th>0</th>\n",
              "      <td>Date received</td>\n",
              "      <td>3822</td>\n",
              "    </tr>\n",
              "    <tr>\n",
              "      <th>13</th>\n",
              "      <td>Date sent to company</td>\n",
              "      <td>3771</td>\n",
              "    </tr>\n",
              "    <tr>\n",
              "      <th>4</th>\n",
              "      <td>Sub-issue</td>\n",
              "      <td>222</td>\n",
              "    </tr>\n",
              "    <tr>\n",
              "      <th>3</th>\n",
              "      <td>Issue</td>\n",
              "      <td>165</td>\n",
              "    </tr>\n",
              "    <tr>\n",
              "      <th>2</th>\n",
              "      <td>Sub-product</td>\n",
              "      <td>77</td>\n",
              "    </tr>\n",
              "    <tr>\n",
              "      <th>8</th>\n",
              "      <td>State</td>\n",
              "      <td>64</td>\n",
              "    </tr>\n",
              "    <tr>\n",
              "      <th>1</th>\n",
              "      <td>Product</td>\n",
              "      <td>18</td>\n",
              "    </tr>\n",
              "    <tr>\n",
              "      <th>6</th>\n",
              "      <td>Company public response</td>\n",
              "      <td>12</td>\n",
              "    </tr>\n",
              "    <tr>\n",
              "      <th>14</th>\n",
              "      <td>Company response to consumer</td>\n",
              "      <td>9</td>\n",
              "    </tr>\n",
              "    <tr>\n",
              "      <th>12</th>\n",
              "      <td>Submitted via</td>\n",
              "      <td>7</td>\n",
              "    </tr>\n",
              "    <tr>\n",
              "      <th>11</th>\n",
              "      <td>Consumer consent provided?</td>\n",
              "      <td>5</td>\n",
              "    </tr>\n",
              "    <tr>\n",
              "      <th>10</th>\n",
              "      <td>Tags</td>\n",
              "      <td>4</td>\n",
              "    </tr>\n",
              "    <tr>\n",
              "      <th>16</th>\n",
              "      <td>Consumer disputed?</td>\n",
              "      <td>3</td>\n",
              "    </tr>\n",
              "    <tr>\n",
              "      <th>15</th>\n",
              "      <td>Timely response?</td>\n",
              "      <td>2</td>\n",
              "    </tr>\n",
              "  </tbody>\n",
              "</table>\n",
              "</div>\n",
              "      <button class=\"colab-df-convert\" onclick=\"convertToInteractive('df-b9a164fc-6798-4ce9-a0e1-7227cf3294fa')\"\n",
              "              title=\"Convert this dataframe to an interactive table.\"\n",
              "              style=\"display:none;\">\n",
              "        \n",
              "  <svg xmlns=\"http://www.w3.org/2000/svg\" height=\"24px\"viewBox=\"0 0 24 24\"\n",
              "       width=\"24px\">\n",
              "    <path d=\"M0 0h24v24H0V0z\" fill=\"none\"/>\n",
              "    <path d=\"M18.56 5.44l.94 2.06.94-2.06 2.06-.94-2.06-.94-.94-2.06-.94 2.06-2.06.94zm-11 1L8.5 8.5l.94-2.06 2.06-.94-2.06-.94L8.5 2.5l-.94 2.06-2.06.94zm10 10l.94 2.06.94-2.06 2.06-.94-2.06-.94-.94-2.06-.94 2.06-2.06.94z\"/><path d=\"M17.41 7.96l-1.37-1.37c-.4-.4-.92-.59-1.43-.59-.52 0-1.04.2-1.43.59L10.3 9.45l-7.72 7.72c-.78.78-.78 2.05 0 2.83L4 21.41c.39.39.9.59 1.41.59.51 0 1.02-.2 1.41-.59l7.78-7.78 2.81-2.81c.8-.78.8-2.07 0-2.86zM5.41 20L4 18.59l7.72-7.72 1.47 1.35L5.41 20z\"/>\n",
              "  </svg>\n",
              "      </button>\n",
              "      \n",
              "  <style>\n",
              "    .colab-df-container {\n",
              "      display:flex;\n",
              "      flex-wrap:wrap;\n",
              "      gap: 12px;\n",
              "    }\n",
              "\n",
              "    .colab-df-convert {\n",
              "      background-color: #E8F0FE;\n",
              "      border: none;\n",
              "      border-radius: 50%;\n",
              "      cursor: pointer;\n",
              "      display: none;\n",
              "      fill: #1967D2;\n",
              "      height: 32px;\n",
              "      padding: 0 0 0 0;\n",
              "      width: 32px;\n",
              "    }\n",
              "\n",
              "    .colab-df-convert:hover {\n",
              "      background-color: #E2EBFA;\n",
              "      box-shadow: 0px 1px 2px rgba(60, 64, 67, 0.3), 0px 1px 3px 1px rgba(60, 64, 67, 0.15);\n",
              "      fill: #174EA6;\n",
              "    }\n",
              "\n",
              "    [theme=dark] .colab-df-convert {\n",
              "      background-color: #3B4455;\n",
              "      fill: #D2E3FC;\n",
              "    }\n",
              "\n",
              "    [theme=dark] .colab-df-convert:hover {\n",
              "      background-color: #434B5C;\n",
              "      box-shadow: 0px 1px 3px 1px rgba(0, 0, 0, 0.15);\n",
              "      filter: drop-shadow(0px 1px 2px rgba(0, 0, 0, 0.3));\n",
              "      fill: #FFFFFF;\n",
              "    }\n",
              "  </style>\n",
              "\n",
              "      <script>\n",
              "        const buttonEl =\n",
              "          document.querySelector('#df-b9a164fc-6798-4ce9-a0e1-7227cf3294fa button.colab-df-convert');\n",
              "        buttonEl.style.display =\n",
              "          google.colab.kernel.accessAllowed ? 'block' : 'none';\n",
              "\n",
              "        async function convertToInteractive(key) {\n",
              "          const element = document.querySelector('#df-b9a164fc-6798-4ce9-a0e1-7227cf3294fa');\n",
              "          const dataTable =\n",
              "            await google.colab.kernel.invokeFunction('convertToInteractive',\n",
              "                                                     [key], {});\n",
              "          if (!dataTable) return;\n",
              "\n",
              "          const docLinkHtml = 'Like what you see? Visit the ' +\n",
              "            '<a target=\"_blank\" href=https://colab.research.google.com/notebooks/data_table.ipynb>data table notebook</a>'\n",
              "            + ' to learn more about interactive tables.';\n",
              "          element.innerHTML = '';\n",
              "          dataTable['output_type'] = 'display_data';\n",
              "          await google.colab.output.renderOutput(dataTable, element);\n",
              "          const docLink = document.createElement('div');\n",
              "          docLink.innerHTML = docLinkHtml;\n",
              "          element.appendChild(docLink);\n",
              "        }\n",
              "      </script>\n",
              "    </div>\n",
              "  </div>\n",
              "  "
            ]
          },
          "metadata": {},
          "execution_count": 14
        }
      ]
    },
    {
      "cell_type": "code",
      "source": [
        "# subset df to rows that has complaint text\n",
        "data_complaints = data.dropna(subset=['Consumer complaint narrative'])"
      ],
      "metadata": {
        "id": "6iYuC3hhrYos"
      },
      "id": "6iYuC3hhrYos",
      "execution_count": null,
      "outputs": []
    },
    {
      "cell_type": "code",
      "source": [
        "data_complaints.shape # get dimension of subsetted df"
      ],
      "metadata": {
        "colab": {
          "base_uri": "https://localhost:8080/"
        },
        "id": "f8OXNLH_Ql-9",
        "outputId": "92ba2613-b911-4ecb-8baf-2dc2dbe5ace1"
      },
      "id": "f8OXNLH_Ql-9",
      "execution_count": null,
      "outputs": [
        {
          "output_type": "execute_result",
          "data": {
            "text/plain": [
              "(937796, 18)"
            ]
          },
          "metadata": {},
          "execution_count": 16
        }
      ]
    },
    {
      "cell_type": "code",
      "source": [
        "sorted(data_complaints['Product'].unique()) # get unique values for product"
      ],
      "metadata": {
        "colab": {
          "base_uri": "https://localhost:8080/"
        },
        "id": "hMGYrEWItHBG",
        "outputId": "44de770a-558d-4baa-d8b8-7f56382ef21f"
      },
      "id": "hMGYrEWItHBG",
      "execution_count": null,
      "outputs": [
        {
          "output_type": "execute_result",
          "data": {
            "text/plain": [
              "['Bank account or service',\n",
              " 'Checking or savings account',\n",
              " 'Consumer Loan',\n",
              " 'Credit card',\n",
              " 'Credit card or prepaid card',\n",
              " 'Credit reporting',\n",
              " 'Credit reporting, credit repair services, or other personal consumer reports',\n",
              " 'Debt collection',\n",
              " 'Money transfer, virtual currency, or money service',\n",
              " 'Money transfers',\n",
              " 'Mortgage',\n",
              " 'Other financial service',\n",
              " 'Payday loan',\n",
              " 'Payday loan, title loan, or personal loan',\n",
              " 'Prepaid card',\n",
              " 'Student loan',\n",
              " 'Vehicle loan or lease',\n",
              " 'Virtual currency']"
            ]
          },
          "metadata": {},
          "execution_count": 17
        }
      ]
    },
    {
      "cell_type": "code",
      "execution_count": null,
      "id": "ccf31cf5",
      "metadata": {
        "id": "ccf31cf5"
      },
      "outputs": [],
      "source": [
        "# subset df to only mortgage loans\n",
        "mortgage_data = data_complaints[data_complaints.Product == \"Mortgage\"] "
      ]
    },
    {
      "cell_type": "code",
      "execution_count": null,
      "id": "d739acc7",
      "metadata": {
        "colab": {
          "base_uri": "https://localhost:8080/"
        },
        "id": "d739acc7",
        "outputId": "d5be3db3-e15d-474d-d5db-2c8315e76cdd"
      },
      "outputs": [
        {
          "output_type": "execute_result",
          "data": {
            "text/plain": [
              "(91774, 18)"
            ]
          },
          "metadata": {},
          "execution_count": 82
        }
      ],
      "source": [
        "mortgage_data.shape # get dimension of final df"
      ]
    },
    {
      "cell_type": "markdown",
      "source": [
        "#### 1.3) Analyze duplicated texts"
      ],
      "metadata": {
        "id": "vWo6A_sdbt35"
      },
      "id": "vWo6A_sdbt35"
    },
    {
      "cell_type": "code",
      "execution_count": null,
      "id": "c102e629",
      "metadata": {
        "id": "c102e629"
      },
      "outputs": [],
      "source": [
        "duplicate_text = mortgage_data[mortgage_data.duplicated(['Consumer complaint narrative'])]"
      ]
    },
    {
      "cell_type": "code",
      "source": [
        "duplicate_text.shape"
      ],
      "metadata": {
        "id": "EBtHj64CWBsI"
      },
      "id": "EBtHj64CWBsI",
      "execution_count": null,
      "outputs": []
    },
    {
      "cell_type": "code",
      "source": [
        "duplicate_text"
      ],
      "metadata": {
        "id": "YT-Uhf5IZSZg"
      },
      "id": "YT-Uhf5IZSZg",
      "execution_count": null,
      "outputs": []
    },
    {
      "cell_type": "markdown",
      "source": [
        "There are 130 duplicate text that go with different companies and issues. We agree that it is best to remove these duplicated texts to not introduce further noise in our data."
      ],
      "metadata": {
        "id": "tYdMBoaibVaQ"
      },
      "id": "tYdMBoaibVaQ"
    },
    {
      "cell_type": "code",
      "source": [
        "mortgage_data = mortgage_data.drop_duplicates(subset=\"Consumer complaint narrative\")"
      ],
      "metadata": {
        "id": "XAGkVvA6WBn8"
      },
      "id": "XAGkVvA6WBn8",
      "execution_count": null,
      "outputs": []
    },
    {
      "cell_type": "code",
      "source": [
        "mortgage_data.shape"
      ],
      "metadata": {
        "colab": {
          "base_uri": "https://localhost:8080/"
        },
        "id": "9QtbjC8Cc_W3",
        "outputId": "cb2564e9-b2c5-4f05-e8f8-e5eb6f085547"
      },
      "id": "9QtbjC8Cc_W3",
      "execution_count": null,
      "outputs": [
        {
          "output_type": "execute_result",
          "data": {
            "text/plain": [
              "(91644, 18)"
            ]
          },
          "metadata": {},
          "execution_count": 86
        }
      ]
    },
    {
      "cell_type": "markdown",
      "source": [
        "#### 1.4) Export final data"
      ],
      "metadata": {
        "id": "AyMqnzjrdzSZ"
      },
      "id": "AyMqnzjrdzSZ"
    },
    {
      "cell_type": "code",
      "execution_count": null,
      "id": "a12c1c2a",
      "metadata": {
        "id": "a12c1c2a"
      },
      "outputs": [],
      "source": [
        "# mortgage_data.to_csv('mortgage_complaints.csv', index = False)"
      ]
    },
    {
      "cell_type": "markdown",
      "source": [
        "### 2) EDA"
      ],
      "metadata": {
        "id": "obdvk0dFSR46"
      },
      "id": "obdvk0dFSR46"
    },
    {
      "cell_type": "markdown",
      "source": [
        "#### 2.1) Total complaints per company (in percentage)"
      ],
      "metadata": {
        "id": "gQC6l7XKSWHD"
      },
      "id": "gQC6l7XKSWHD"
    },
    {
      "cell_type": "code",
      "source": [
        "fig_dims = (5, 10)\n",
        "fig, ax = plt.subplots(figsize=fig_dims)\n",
        "mortgage_data['Company'].value_counts(normalize=True).sort_values(ascending=True)[-30:].plot(ax=ax, kind='barh')\n",
        "ax.set_title('Percentage of complaints per company (Top 30)')"
      ],
      "metadata": {
        "colab": {
          "base_uri": "https://localhost:8080/",
          "height": 624
        },
        "id": "TORKAMFjRhng",
        "outputId": "97ed1387-fce9-4521-c6e2-ba3bbc2af439"
      },
      "id": "TORKAMFjRhng",
      "execution_count": null,
      "outputs": [
        {
          "output_type": "execute_result",
          "data": {
            "text/plain": [
              "Text(0.5, 1.0, 'Percentage of complaints per company (Top 30)')"
            ]
          },
          "metadata": {},
          "execution_count": 87
        },
        {
          "output_type": "display_data",
          "data": {
            "text/plain": [
              "<Figure size 360x720 with 1 Axes>"
            ],
            "image/png": "[encoded data removed]"
          },
          "metadata": {
            "needs_background": "light"
          }
        }
      ]
    },
    {
      "cell_type": "markdown",
      "source": [
        "#### 2.2) Total complaints per sub-product (in percentage)"
      ],
      "metadata": {
        "id": "C15ZvIA4TD_r"
      },
      "id": "C15ZvIA4TD_r"
    },
    {
      "cell_type": "code",
      "source": [
        "fig_dims = (5, 10)\n",
        "fig, ax = plt.subplots(figsize=fig_dims)\n",
        "mortgage_data['Sub-product'].value_counts(normalize=True).sort_values(ascending=True).plot(ax=ax, kind='barh')\n",
        "ax.set_title('Percentage of complaints per sub-product')"
      ],
      "metadata": {
        "colab": {
          "base_uri": "https://localhost:8080/",
          "height": 624
        },
        "id": "hsgORz6cTDmK",
        "outputId": "34955b5a-3db6-413f-d872-4633a1c4e8fe"
      },
      "id": "hsgORz6cTDmK",
      "execution_count": null,
      "outputs": [
        {
          "output_type": "execute_result",
          "data": {
            "text/plain": [
              "Text(0.5, 1.0, 'Percentage of complaints per sub-product')"
            ]
          },
          "metadata": {},
          "execution_count": 88
        },
        {
          "output_type": "display_data",
          "data": {
            "text/plain": [
              "<Figure size 360x720 with 1 Axes>"
            ],
            "image/png": "[encoded data removed]"
          },
          "metadata": {
            "needs_background": "light"
          }
        }
      ]
    },
    {
      "cell_type": "markdown",
      "source": [
        "#### 2.3) Company responses (in percentage)"
      ],
      "metadata": {
        "id": "mrC-n4ikT1HC"
      },
      "id": "mrC-n4ikT1HC"
    },
    {
      "cell_type": "code",
      "source": [
        "fig_dims = (5, 10)\n",
        "fig, ax = plt.subplots(figsize=fig_dims)\n",
        "mortgage_data['Company public response'].value_counts(normalize=True).sort_values(ascending=True).plot(ax=ax, kind='barh')\n",
        "ax.set_title('Percentage of company public response')"
      ],
      "metadata": {
        "colab": {
          "base_uri": "https://localhost:8080/",
          "height": 624
        },
        "id": "UB91iFZMRhk3",
        "outputId": "8d5aa1b3-f7c8-4841-9dc4-8859a660dd8c"
      },
      "id": "UB91iFZMRhk3",
      "execution_count": null,
      "outputs": [
        {
          "output_type": "execute_result",
          "data": {
            "text/plain": [
              "Text(0.5, 1.0, 'Percentage of company public response')"
            ]
          },
          "metadata": {},
          "execution_count": 89
        },
        {
          "output_type": "display_data",
          "data": {
            "text/plain": [
              "<Figure size 360x720 with 1 Axes>"
            ],
            "image/png": "[encoded data removed]"
          },
          "metadata": {
            "needs_background": "light"
          }
        }
      ]
    },
    {
      "cell_type": "code",
      "source": [
        "fig_dims = (5, 10)\n",
        "fig, ax = plt.subplots(figsize=fig_dims)\n",
        "mortgage_data['Company response to consumer'].value_counts(normalize=True).sort_values(ascending=True).plot(ax=ax, kind='barh')\n",
        "ax.set_title('Percentage of company response to consumer')"
      ],
      "metadata": {
        "colab": {
          "base_uri": "https://localhost:8080/",
          "height": 624
        },
        "id": "MQ1sR-PXRhfZ",
        "outputId": "deec7ffa-766c-4f39-f12f-700cd5021266"
      },
      "id": "MQ1sR-PXRhfZ",
      "execution_count": null,
      "outputs": [
        {
          "output_type": "execute_result",
          "data": {
            "text/plain": [
              "Text(0.5, 1.0, 'Percentage of company response to consumer')"
            ]
          },
          "metadata": {},
          "execution_count": 90
        },
        {
          "output_type": "display_data",
          "data": {
            "text/plain": [
              "<Figure size 360x720 with 1 Axes>"
            ],
            "image/png": "[encoded data removed]"
          },
          "metadata": {
            "needs_background": "light"
          }
        }
      ]
    },
    {
      "cell_type": "markdown",
      "source": [
        "#### 2.4) Complaint issue (in percentage)"
      ],
      "metadata": {
        "id": "_rJ7-it9VZSi"
      },
      "id": "_rJ7-it9VZSi"
    },
    {
      "cell_type": "code",
      "source": [
        "fig_dims = (5, 10)\n",
        "fig, ax = plt.subplots(figsize=fig_dims)\n",
        "mortgage_data['Issue'].value_counts(normalize=True).sort_values(ascending=True).plot(ax=ax, kind='barh')\n",
        "ax.set_title('Percentage of complaint issues')"
      ],
      "metadata": {
        "colab": {
          "base_uri": "https://localhost:8080/",
          "height": 624
        },
        "id": "LjEKLts8Rhae",
        "outputId": "0b224296-4324-4990-9168-a8b5e05ce190"
      },
      "id": "LjEKLts8Rhae",
      "execution_count": null,
      "outputs": [
        {
          "output_type": "execute_result",
          "data": {
            "text/plain": [
              "Text(0.5, 1.0, 'Percentage of complaint issues')"
            ]
          },
          "metadata": {},
          "execution_count": 91
        },
        {
          "output_type": "display_data",
          "data": {
            "text/plain": [
              "<Figure size 360x720 with 1 Axes>"
            ],
            "image/png": "[encoded data removed]"
          },
          "metadata": {
            "needs_background": "light"
          }
        }
      ]
    },
    {
      "cell_type": "markdown",
      "source": [
        "#### 2.5) Complaint length distribution"
      ],
      "metadata": {
        "id": "ODO7bkhpeWZq"
      },
      "id": "ODO7bkhpeWZq"
    },
    {
      "cell_type": "markdown",
      "source": [
        "We have very left skew in length of complaints. The median length is 1187 and mean is 1643. The We expect 75 percent of the documents to have less than 2067 words. "
      ],
      "metadata": {
        "id": "oYOD1r7jgfYA"
      },
      "id": "oYOD1r7jgfYA"
    },
    {
      "cell_type": "code",
      "source": [
        "mortgage_data['Consumer complaint narrative'].apply(len).describe()"
      ],
      "metadata": {
        "colab": {
          "base_uri": "https://localhost:8080/"
        },
        "id": "WJ73jhIqf9iA",
        "outputId": "d60fa1d9-d5b6-43c2-8254-0197d6c7a5f0"
      },
      "id": "WJ73jhIqf9iA",
      "execution_count": null,
      "outputs": [
        {
          "output_type": "execute_result",
          "data": {
            "text/plain": [
              "count    91644.000000\n",
              "mean      1643.155864\n",
              "std       1674.627956\n",
              "min         13.000000\n",
              "25%        677.000000\n",
              "50%       1187.000000\n",
              "75%       2067.000000\n",
              "max      32317.000000\n",
              "Name: Consumer complaint narrative, dtype: float64"
            ]
          },
          "metadata": {},
          "execution_count": 112
        }
      ]
    },
    {
      "cell_type": "code",
      "source": [
        "mortgage_data['Consumer complaint narrative'].apply(len).median()"
      ],
      "metadata": {
        "colab": {
          "base_uri": "https://localhost:8080/"
        },
        "id": "JeTC_KS7hEGw",
        "outputId": "dddd16af-55ef-498e-c4ad-917fffe79032"
      },
      "id": "JeTC_KS7hEGw",
      "execution_count": null,
      "outputs": [
        {
          "output_type": "execute_result",
          "data": {
            "text/plain": [
              "1187.0"
            ]
          },
          "metadata": {},
          "execution_count": 115
        }
      ]
    },
    {
      "cell_type": "code",
      "source": [
        "mortgage_data['Consumer complaint narrative'].apply(len).plot(kind = 'hist', bins=100).set_xlim(0,10000) # x-lim cut off 10,000"
      ],
      "metadata": {
        "colab": {
          "base_uri": "https://localhost:8080/",
          "height": 282
        },
        "id": "SrG4JMOqgdWV",
        "outputId": "f82d9f92-a0b4-4778-b41f-782c4c15bc0a"
      },
      "id": "SrG4JMOqgdWV",
      "execution_count": null,
      "outputs": [
        {
          "output_type": "execute_result",
          "data": {
            "text/plain": [
              "(0.0, 10000.0)"
            ]
          },
          "metadata": {},
          "execution_count": 114
        },
        {
          "output_type": "display_data",
          "data": {
            "text/plain": [
              "<Figure size 432x288 with 1 Axes>"
            ],
            "image/png": "[encoded data removed]"
          },
          "metadata": {
            "needs_background": "light"
          }
        }
      ]
    },
    {
      "cell_type": "markdown",
      "source": [
        "### 3) Apply classification models"
      ],
      "metadata": {
        "id": "Fy1M19aQi7pp"
      },
      "id": "Fy1M19aQi7pp"
    }
  ],
  "metadata": {
    "kernelspec": {
      "display_name": "Python 3",
      "language": "python",
      "name": "python3"
    },
    "language_info": {
      "codemirror_mode": {
        "name": "ipython",
        "version": 3
      },
      "file_extension": ".py",
      "mimetype": "text/x-python",
      "name": "python",
      "nbconvert_exporter": "python",
      "pygments_lexer": "ipython3",
      "version": "3.8.8"
    },
    "colab": {
      "name": "consumer_complaint_project.ipynb",
      "provenance": [],
      "collapsed_sections": []
    }
  },
  "nbformat": 4,
  "nbformat_minor": 5
}